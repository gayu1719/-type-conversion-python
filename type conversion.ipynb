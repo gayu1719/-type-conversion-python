{
 "cells": [
  {
   "cell_type": "markdown",
   "id": "c49a0d7e-8b6d-406f-ab9f-401812034f38",
   "metadata": {},
   "source": [
    "TYPE CONVERSION"
   ]
  },
  {
   "cell_type": "markdown",
   "id": "7e978309-66c8-477c-add7-bdcb90f40113",
   "metadata": {
    "jp-MarkdownHeadingCollapsed": true
   },
   "source": [
    "Q.1 convert integer to a floating-point number "
   ]
  },
  {
   "cell_type": "code",
   "execution_count": 1,
   "id": "3b102725-0ddd-4546-a972-c6038f70033f",
   "metadata": {},
   "outputs": [
    {
     "name": "stdout",
     "output_type": "stream",
     "text": [
      "35.0\n"
     ]
    }
   ],
   "source": [
    "int_number =  35\n",
    "float_number = float(int_number)\n",
    "print(float_number)"
   ]
  },
  {
   "cell_type": "markdown",
   "id": "bb3ead96-6b88-4c01-97cb-effda2893c34",
   "metadata": {},
   "source": [
    "Q.2 convert float to an integer"
   ]
  },
  {
   "cell_type": "code",
   "execution_count": 2,
   "id": "ee8b50bd-00f4-4a63-8a1d-a4231f36b391",
   "metadata": {},
   "outputs": [
    {
     "name": "stdout",
     "output_type": "stream",
     "text": [
      "3\n"
     ]
    }
   ],
   "source": [
    "float_number = 3.3\n",
    "int_number = int(float_number)\n",
    "print(int_number)"
   ]
  },
  {
   "cell_type": "markdown",
   "id": "d6bee7e5-d3a7-4007-81fa-d4325423bdb8",
   "metadata": {},
   "source": [
    "Q.3 convert an integer to an string"
   ]
  },
  {
   "cell_type": "code",
   "execution_count": 4,
   "id": "7d958565-e56d-40d1-886d-2cc0a38ec6ca",
   "metadata": {},
   "outputs": [
    {
     "name": "stdout",
     "output_type": "stream",
     "text": [
      "33\n"
     ]
    }
   ],
   "source": [
    "integer_number = 33\n",
    "my_string = str(integer_number)\n",
    "print(my_string)"
   ]
  },
  {
   "cell_type": "markdown",
   "id": "f63950da-4dd1-4356-a14b-b3c18e8d6790",
   "metadata": {},
   "source": [
    "Q.4 convert a list to a tuple\n"
   ]
  },
  {
   "cell_type": "code",
   "execution_count": 5,
   "id": "f8ffa700-42fe-473f-bf89-c1566d882c12",
   "metadata": {},
   "outputs": [
    {
     "name": "stdout",
     "output_type": "stream",
     "text": [
      "(1, 2, 3, 4, 5, 6, 7, 8, 9)\n"
     ]
    }
   ],
   "source": [
    "my_list = [1,2,3,4,5,6,7,8,9]\n",
    "my_tuple = tuple(my_list)\n",
    "print(my_tuple)"
   ]
  },
  {
   "cell_type": "markdown",
   "id": "98646382-9597-492d-a10c-be874003f7eb",
   "metadata": {},
   "source": [
    "Q.5 convert a tuple to a list "
   ]
  },
  {
   "cell_type": "code",
   "execution_count": 7,
   "id": "04c45e07-363b-468f-af34-ebee8dd6e28c",
   "metadata": {},
   "outputs": [
    {
     "name": "stdout",
     "output_type": "stream",
     "text": [
      "['name', 3, 4, 5]\n"
     ]
    }
   ],
   "source": [
    "my_tuple = (\"name\",3,4,5)\n",
    "my_list = list(my_tuple)\n",
    "print(my_list)"
   ]
  },
  {
   "cell_type": "markdown",
   "id": "233fda6b-230b-499f-9214-9c16865fd8ed",
   "metadata": {},
   "source": [
    "Q.6 convert a decimal number to binary"
   ]
  },
  {
   "cell_type": "code",
   "execution_count": null,
   "id": "0dd5bb15-1850-4eb6-b4a7-9caffe8ead90",
   "metadata": {},
   "outputs": [],
   "source": [
    "decimal_number = 10\n"
   ]
  },
  {
   "cell_type": "code",
   "execution_count": null,
   "id": "66ff4f10-496b-42bb-818c-9debd71b3d92",
   "metadata": {},
   "outputs": [],
   "source": []
  }
 ],
 "metadata": {
  "kernelspec": {
   "display_name": "Python 3 (ipykernel)",
   "language": "python",
   "name": "python3"
  },
  "language_info": {
   "codemirror_mode": {
    "name": "ipython",
    "version": 3
   },
   "file_extension": ".py",
   "mimetype": "text/x-python",
   "name": "python",
   "nbconvert_exporter": "python",
   "pygments_lexer": "ipython3",
   "version": "3.13.1"
  }
 },
 "nbformat": 4,
 "nbformat_minor": 5
}
